{
 "cells": [
  {
   "cell_type": "code",
   "execution_count": 1,
   "id": "d75d82c1",
   "metadata": {},
   "outputs": [],
   "source": [
    "import requests\n",
    "from bs4 import BeautifulSoup\n",
    "import os\n"
   ]
  },
  {
   "cell_type": "code",
   "execution_count": 8,
   "id": "793dff8f",
   "metadata": {},
   "outputs": [],
   "source": [
    "Google_Image = 'https://www.google.com/search?site=&tbm=isch&source=hp&biw=1873&bih=990&'"
   ]
  },
  {
   "cell_type": "code",
   "execution_count": 10,
   "id": "a0e6d464",
   "metadata": {},
   "outputs": [
    {
     "name": "stdout",
     "output_type": "stream",
     "text": [
      "Enter Your Search Keyword: messi\n",
      "Searching Images .....\n",
      "Found 50 images\n",
      "Start Downloading .....\n",
      "Download Completed\n"
     ]
    }
   ],
   "source": [
    "u_agnt = {\n",
    "    'User-Agent':'Mozilla/5.0 (Windows NT 10.0; Win64; x64) AppleWebKit/537.36 (KHTML, like Gecko) Chrome/114.0.0.0 Safari/537.36',\n",
    "    'Accept':'text/html,application/xhtml+xml,application/xml;q=0.9,*/*;q=0.8',\n",
    "    'Accept-Charset': 'ISO-8859-1,utf-8;q=0.7,*;q=0.3',\n",
    "    'Accept-Encoding':'none',\n",
    "    'Accept-Language': 'en-US,en:q=0.8',\n",
    "    'connection':'keep-alive',\n",
    "    \n",
    "}\n",
    "Image_Folder = 'Images_1'\n",
    "def main():\n",
    "    if not os.path.exists(Image_Folder):\n",
    "        os.mkdir(Image_Folder)\n",
    "    download_images()\n",
    "\n",
    "def download_images():\n",
    "    data = input(\"Enter Your Search Keyword: \")\n",
    "    num_images = 50\n",
    "    \n",
    "    print('Searching Images .....')\n",
    "    \n",
    "    search_url = Google_Image + 'q=' + data\n",
    "    \n",
    "    response = requests.get(search_url,headers=u_agnt)\n",
    "    html = response.text\n",
    "    \n",
    "    b_soup = BeautifulSoup(html,'html.parser')\n",
    "    results = b_soup.findAll('img',{'class':'rg_i Q4LuWd'})\n",
    "    \n",
    "    count = 0\n",
    "    imagelinks = []\n",
    "    for res in results:\n",
    "        try:\n",
    "            link = res['data-src']\n",
    "            imagelinks.append(link)\n",
    "            count = count + 1\n",
    "            if(count >= num_images):\n",
    "                break\n",
    "                \n",
    "        except KeyError:\n",
    "            continue\n",
    "            \n",
    "\n",
    "    print(f'Found {len(imagelinks)} images')\n",
    "    print(\"Start Downloading .....\")\n",
    "\n",
    "    for i,imagelink in enumerate(imagelinks):\n",
    "        response = requests.get(imagelink)\n",
    "        imagename = Image_Folder + '/' + data + str(i+1) + '.jpg'\n",
    "        with open(imagename,'wb') as file:\n",
    "            file.write(response.content)\n",
    "    print(\"Download Completed\")\n",
    "\n",
    "if __name__ =='__main__':\n",
    "    main()"
   ]
  }
 ],
 "metadata": {
  "kernelspec": {
   "display_name": "Python 3 (ipykernel)",
   "language": "python",
   "name": "python3"
  },
  "language_info": {
   "codemirror_mode": {
    "name": "ipython",
    "version": 3
   },
   "file_extension": ".py",
   "mimetype": "text/x-python",
   "name": "python",
   "nbconvert_exporter": "python",
   "pygments_lexer": "ipython3",
   "version": "3.10.9"
  }
 },
 "nbformat": 4,
 "nbformat_minor": 5
}
